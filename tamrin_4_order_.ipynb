{
  "nbformat": 4,
  "nbformat_minor": 0,
  "metadata": {
    "colab": {
      "provenance": [],
      "mount_file_id": "1tIPI1II8sLhB0m_l6UOl5f19mdUL6bOl",
      "authorship_tag": "ABX9TyOuQR8abMxOKncjglLuikhA",
      "include_colab_link": true
    },
    "kernelspec": {
      "name": "python3",
      "display_name": "Python 3"
    },
    "language_info": {
      "name": "python"
    }
  },
  "cells": [
    {
      "cell_type": "markdown",
      "metadata": {
        "id": "view-in-github",
        "colab_type": "text"
      },
      "source": [
        "<a href=\"https://colab.research.google.com/github/40116341054071/Order_time4/blob/main/tamrin_4_order_.ipynb\" target=\"_parent\"><img src=\"https://colab.research.google.com/assets/colab-badge.svg\" alt=\"Open In Colab\"/></a>"
      ]
    },
    {
      "cell_type": "code",
      "execution_count": null,
      "metadata": {
        "id": "kgChOvJKktip"
      },
      "outputs": [],
      "source": [
        "import datetime\n",
        "import random\n",
        "n=[random.randint(10,100) for i in range (100000)]\n",
        "start=datetime.datetime.now()\n",
        "def avg (s):\n",
        "    A=[0]*n\n",
        "    for i in range (100000):\n",
        "        total=0\n",
        "        for j in range(i+1):\n",
        "            total+=s[j]\n",
        "        A[i]=total/(i+1)\n",
        "    return A\n",
        "print(avg(s))\n",
        "end=datetime.datetime.now()\n",
        "print(end-start)"
      ]
    }
  ]
}